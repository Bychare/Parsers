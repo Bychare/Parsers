{
 "cells": [
  {
   "cell_type": "code",
   "execution_count": 36,
   "id": "17d70106-768e-477c-ad33-8fab9ad8bf2c",
   "metadata": {},
   "outputs": [],
   "source": [
    "from selenium import webdriver\n",
    "from selenium.webdriver.common.by import By\n",
    "from selenium.webdriver.common.keys import Keys\n",
    "from selenium.webdriver.support.ui import WebDriverWait\n",
    "from selenium.webdriver.support import expected_conditions as EC\n",
    "from selenium.common.exceptions import TimeoutException, NoSuchElementException, StaleElementReferenceException\n",
    "\n",
    "import time"
   ]
  },
  {
   "cell_type": "code",
   "execution_count": 37,
   "id": "113493ce-6300-48d5-bc6d-3966f7f23a6b",
   "metadata": {},
   "outputs": [],
   "source": [
    "import os\n",
    "import zipfile\n",
    "\n",
    "import shutil\n",
    "from glob import glob\n",
    "import pandas as pd\n",
    "from datetime import datetime"
   ]
  },
  {
   "cell_type": "code",
   "execution_count": 38,
   "id": "9290f305-0e52-4466-8660-4e78765c1f6b",
   "metadata": {},
   "outputs": [],
   "source": [
    "# Папка, куда загружаются файлы\n",
    "download_dir = r\"C:\\Users\\tatarikov\\Desktop\\R scripts\\Daily report\""
   ]
  },
  {
   "cell_type": "code",
   "execution_count": 39,
   "id": "ce22449f-772d-4141-a7f2-4a73256f5fe4",
   "metadata": {},
   "outputs": [],
   "source": [
    "    options = webdriver.ChromeOptions()\n",
    "    driver = webdriver.Chrome(options=options)"
   ]
  },
  {
   "cell_type": "code",
   "execution_count": null,
   "id": "2aff6ff1-ea85-45d7-8bb8-fb5303d95785",
   "metadata": {},
   "outputs": [],
   "source": [
    "# Здесь был переход на конкретную ИРК"
   ]
  },
  {
   "cell_type": "code",
   "execution_count": 41,
   "id": "7e001f78-7427-4920-977a-6adf8536f1e4",
   "metadata": {},
   "outputs": [],
   "source": [
    "# Ввод логина\n",
    "wait = WebDriverWait(driver, 10)\n",
    "input_field = wait.until(EC.presence_of_element_located((\n",
    "        By.CSS_SELECTOR, \"#id_username\"\n",
    "    )))\n",
    "input_field.send_keys(\"login\")"
   ]
  },
  {
   "cell_type": "code",
   "execution_count": 42,
   "id": "11f73791-ee8c-423c-9847-425da1c6c290",
   "metadata": {},
   "outputs": [],
   "source": [
    "# Ввод пароля\n",
    "input_field = wait.until(EC.presence_of_element_located((\n",
    "        By.CSS_SELECTOR, \"#id_password\"\n",
    "    )))\n",
    "input_field.send_keys(\"password\")"
   ]
  },
  {
   "cell_type": "code",
   "execution_count": 43,
   "id": "1fa28a96-3b61-43a3-b270-f485f1c456d4",
   "metadata": {},
   "outputs": [],
   "source": [
    "button = driver.find_element(By.CSS_SELECTOR, \"#submit-id-submit\")\n",
    "button.click()"
   ]
  },
  {
   "cell_type": "code",
   "execution_count": 44,
   "id": "c229aa25-5f51-4a63-8bdb-4f9936384b3f",
   "metadata": {},
   "outputs": [],
   "source": [
    "# Здесь был переход в раздел в квери"
   ]
  },
  {
   "cell_type": "code",
   "execution_count": 45,
   "id": "96cc804b-73d1-4baf-9ba5-69ccabdfbe12",
   "metadata": {},
   "outputs": [],
   "source": [
    "# Находим поле ввода\n",
    "input_field = driver.find_element(By.CSS_SELECTOR, \"#wrap > div.container-fluid.main > main > query-tbl > table > thead > tr.ng-table-filters > th:nth-child(2) > div > input\")\n",
    "\n",
    "# Очистка поля \n",
    "input_field.clear()"
   ]
  },
  {
   "cell_type": "code",
   "execution_count": 46,
   "id": "2884ad12-26e6-4b53-8584-4aae60eeaf73",
   "metadata": {},
   "outputs": [],
   "source": [
    "time.sleep(2)"
   ]
  },
  {
   "cell_type": "code",
   "execution_count": 47,
   "id": "45f071dc-c18f-4248-8ab3-1eb550574cce",
   "metadata": {},
   "outputs": [],
   "source": [
    "# Выбор статуса query Updated\n",
    "button = driver.find_element(By.CSS_SELECTOR, \"#wrap > div.container-fluid.main > main > query-tbl > table > thead > tr.ng-table-filters > th:nth-child(6) > div > select\")\n",
    "button.click()\n",
    "time.sleep(1)\n",
    "button = driver.find_element(By.CSS_SELECTOR, \"#wrap > div.container-fluid.main > main > query-tbl > table > thead > tr.ng-table-filters > th:nth-child(6) > div > select > option:nth-child(4)\")\n",
    "button.click()"
   ]
  },
  {
   "cell_type": "code",
   "execution_count": 48,
   "id": "aca697e0-629d-42b3-b5f0-c150ab068b13",
   "metadata": {},
   "outputs": [],
   "source": [
    "time.sleep(2)\n",
    "# Нажатие кнопки создания отчета\n",
    "button = driver.find_element(By.CSS_SELECTOR, \"#wrap > div.container-fluid.main > main > query-tbl > div.pull-left > button:nth-child(2)\")\n",
    "button.click()"
   ]
  },
  {
   "cell_type": "code",
   "execution_count": 49,
   "id": "74822158-e52d-477a-8d54-67a36a232378",
   "metadata": {},
   "outputs": [],
   "source": [
    "# Нажатие кнопки ОК во всплывшем окне\n",
    "time.sleep(3)\n",
    "button = driver.find_element(By.CSS_SELECTOR, \"body > div.modal.fade.in > div > div > div.modal-footer > button.btn.btn-info\")\n",
    "button.click()"
   ]
  },
  {
   "cell_type": "code",
   "execution_count": 50,
   "id": "21fb9677-dc9b-49f7-8bbe-188dcdc42572",
   "metadata": {},
   "outputs": [],
   "source": [
    "time.sleep(60)"
   ]
  },
  {
   "cell_type": "code",
   "execution_count": 51,
   "id": "1c91d76b-5013-4193-ab38-e2bb2d787c23",
   "metadata": {},
   "outputs": [],
   "source": [
    "# Нажатие кнопки Refresh\n",
    "button = driver.find_element(By.CSS_SELECTOR, \"#wrap > div.container-fluid.main > main > query-tbl > div.pull-left > button:nth-child(2)\")\n",
    "button.click()\n",
    "time.sleep(1)"
   ]
  },
  {
   "cell_type": "code",
   "execution_count": 52,
   "id": "8be95222-d0f7-42b2-bfca-8fdd3ce155ed",
   "metadata": {},
   "outputs": [],
   "source": [
    "# Нажатие кнопки Download\n",
    "time.sleep(2)\n",
    "button = driver.find_element(By.CSS_SELECTOR, \"#wrap > div.container-fluid.main > main > query-tbl > div.pull-left > button:nth-child(3)\")\n",
    "button.click()\n",
    "time.sleep(1)"
   ]
  },
  {
   "cell_type": "code",
   "execution_count": 53,
   "id": "8b746b72-0b1c-4efc-ab7b-98d22237a783",
   "metadata": {},
   "outputs": [
    {
     "name": "stdout",
     "output_type": "stream",
     "text": [
      "✅ Файл Notes & discrepancies_20250519T125720+0300.xlsx переименован и перемещён в C:\\Users\\tatarikov\\Desktop\\R scripts\\Daily report!\n"
     ]
    }
   ],
   "source": [
    "# Папка, где ищем последний загруженный Excel-файл\n",
    "downloads_dir = r\"C:\\Users\\tatarikov\\Downloads\"\n",
    "destination_dir = r\"C:\\Users\\tatarikov\\Desktop\\R scripts\\Daily report\"\n",
    "\n",
    "# Ищем все Excel-файлы в папке (xlsx и xls)\n",
    "excel_files = glob(os.path.join(downloads_dir, \"*.xls*\"))\n",
    "\n",
    "if not excel_files:\n",
    "    print(\"❌ В папке Downloads нет Excel-файлов!\")\n",
    "else:\n",
    "    # Находим самый последний файл по времени изменения\n",
    "    latest_file = max(excel_files, key=os.path.getmtime)\n",
    "\n",
    "    # Новый путь с новым именем\n",
    "    new_file_path = os.path.join(destination_dir, \"Updated queries.xlsx\")\n",
    "\n",
    "    # Перемещаем и переименовываем файл\n",
    "    shutil.move(latest_file, new_file_path)\n",
    "    \n",
    "    print(f\"✅ Файл {os.path.basename(latest_file)} переименован и перемещён в {destination_dir}!\")"
   ]
  },
  {
   "cell_type": "code",
   "execution_count": 54,
   "id": "58ed9815-13b2-49e1-bc3d-b20de78303e8",
   "metadata": {},
   "outputs": [],
   "source": [
    "# Выбор статуса query New\n",
    "button = driver.find_element(By.CSS_SELECTOR, \"#wrap > div.container-fluid.main > main > query-tbl > table > thead > tr.ng-table-filters > th:nth-child(6) > div > select\")\n",
    "button.click()\n",
    "time.sleep(1)\n",
    "button = driver.find_element(By.CSS_SELECTOR, \"#wrap > div.container-fluid.main > main > query-tbl > table > thead > tr.ng-table-filters > th:nth-child(6) > div > select > option:nth-child(3)\")\n",
    "button.click()\n",
    "time.sleep(1)"
   ]
  },
  {
   "cell_type": "code",
   "execution_count": 55,
   "id": "1a64fc2a-6d14-4ab5-9027-9ac40b15ae71",
   "metadata": {},
   "outputs": [],
   "source": [
    "time.sleep(2)\n",
    "# Нажатие кнопки создания отчета\n",
    "button = driver.find_element(By.CSS_SELECTOR, \"#wrap > div.container-fluid.main > main > query-tbl > div.pull-left > button:nth-child(2)\")\n",
    "button.click()"
   ]
  },
  {
   "cell_type": "code",
   "execution_count": 56,
   "id": "5cf2a1fa-f033-4f06-a59c-c36a7050ce5c",
   "metadata": {},
   "outputs": [],
   "source": [
    "time.sleep(2)\n",
    "# Нажатие кнопки ОК во всплывшем окне\n",
    "button = driver.find_element(By.CSS_SELECTOR, \"body > div.modal.fade.in > div > div > div.modal-footer > button.btn.btn-info\")\n",
    "button.click()"
   ]
  },
  {
   "cell_type": "code",
   "execution_count": 57,
   "id": "f23e538d-279c-4eca-81d3-5c726c782e05",
   "metadata": {},
   "outputs": [],
   "source": [
    "time.sleep(40)"
   ]
  },
  {
   "cell_type": "code",
   "execution_count": 58,
   "id": "40f7fbb3-6b7f-4a91-b528-c0f1cfa58e9e",
   "metadata": {},
   "outputs": [],
   "source": [
    "# Нажатие кнопки Refresh\n",
    "button = driver.find_element(By.CSS_SELECTOR, \"#wrap > div.container-fluid.main > main > query-tbl > div.pull-left > button:nth-child(2)\")\n",
    "button.click()\n",
    "time.sleep(1)"
   ]
  },
  {
   "cell_type": "code",
   "execution_count": 59,
   "id": "820efb40-6de1-4326-98ea-9d6e3860b89a",
   "metadata": {},
   "outputs": [],
   "source": [
    "# Нажатие кнопки Download\n",
    "button = driver.find_element(By.CSS_SELECTOR, \"#wrap > div.container-fluid.main > main > query-tbl > div.pull-left > button:nth-child(3)\")\n",
    "button.click()\n",
    "time.sleep(1)"
   ]
  },
  {
   "cell_type": "code",
   "execution_count": 60,
   "id": "37cdf4a5-9771-419e-9897-abaa05a95184",
   "metadata": {},
   "outputs": [
    {
     "name": "stdout",
     "output_type": "stream",
     "text": [
      "✅ Файл Notes & discrepancies_20250519T125832+0300.xlsx переименован и перемещён в C:\\Users\\tatarikov\\Desktop\\R scripts\\Daily report!\n"
     ]
    }
   ],
   "source": [
    "# Папка, где ищем последний загруженный Excel-файл\n",
    "downloads_dir = r\"C:\\Users\\tatarikov\\Downloads\"\n",
    "destination_dir = r\"C:\\Users\\tatarikov\\Desktop\\R scripts\\Daily report\"\n",
    "\n",
    "# Ищем все Excel-файлы в папке (xlsx и xls)\n",
    "excel_files = glob(os.path.join(downloads_dir, \"*.xls*\"))\n",
    "\n",
    "if not excel_files:\n",
    "    print(\"❌ В папке Downloads нет Excel-файлов!\")\n",
    "else:\n",
    "    # Находим самый последний файл по времени изменения\n",
    "    latest_file = max(excel_files, key=os.path.getmtime)\n",
    "\n",
    "    # Новый путь с новым именем\n",
    "    new_file_path = os.path.join(destination_dir, \"New queries.xlsx\")\n",
    "\n",
    "    # Перемещаем и переименовываем файл\n",
    "    shutil.move(latest_file, new_file_path)\n",
    "    \n",
    "    print(f\"✅ Файл {os.path.basename(latest_file)} переименован и перемещён в {destination_dir}!\")"
   ]
  },
  {
   "cell_type": "code",
   "execution_count": 61,
   "id": "429ad6f1-fdac-4a79-ba67-d56fc8a73940",
   "metadata": {},
   "outputs": [],
   "source": [
    "# Путь к файлу\n",
    "file_path_1 = r\"C:\\Users\\tatarikov\\Desktop\\R scripts\\Daily report\\Updated queries.xlsx\"\n",
    "\n",
    "file_path_2 = r\"C:\\Users\\tatarikov\\Desktop\\R scripts\\Daily report\\New queries.xlsx\"\n",
    "\n",
    "# Список пользователей для фильтрации\n",
    "users_to_keep = [\n",
    "    \"Klim Tatarikov (tatarikov)\"\n",
    "]\n",
    "\n",
    "# Проверяем, существует ли файл\n",
    "if not os.path.exists(file_path_1):\n",
    "    print(\"❌ Файл не найден!\")\n",
    "else:\n",
    "    # Читаем Excel (автоматически определяет нужный лист)\n",
    "    df_1 = pd.read_excel(file_path_1)\n",
    "\n",
    "    # Убираем строки, где поле \"Type\" пустое\n",
    "    df_1 = df_1.dropna(subset=[\"Type\"])\n",
    "    \n",
    "    # Создаём новый столбец \"Status\" и заполняем его значением \"Updated\"\n",
    "    df_1[\"Status\"] = \"Updated\"\n",
    "    \n",
    "    # Фильтруем по полю \"User\"\n",
    "    df_filtered_updated = df_1[df_1[\"User\"].isin(users_to_keep)]\n",
    "\n",
    "\n",
    "\n",
    "\n",
    "# Проверяем, существует ли файл\n",
    "if not os.path.exists(file_path_2):\n",
    "    print(\"❌ Файл не найден!\")\n",
    "else:\n",
    "    # Читаем Excel (автоматически определяет нужный лист)\n",
    "    df_2 = pd.read_excel(file_path_2)\n",
    "\n",
    "    # Убираем строки, где поле \"Type\" пустое\n",
    "    df_2 = df_2.dropna(subset=[\"Type\"])\n",
    "    \n",
    "    # Создаём новый столбец \"Status\" и заполняем его значением \"Updated\"\n",
    "    df_2[\"Status\"] = \"New\"\n",
    "    \n",
    "    # Фильтруем по полю \"User\"\n",
    "    df_filtered_new = df_2[df_2[\"User\"].isin(users_to_keep)]\n",
    "\n",
    "\n"
   ]
  },
  {
   "cell_type": "code",
   "execution_count": 62,
   "id": "43dea8de-dda6-42d2-8f87-690f30d0a69c",
   "metadata": {},
   "outputs": [
    {
     "name": "stdout",
     "output_type": "stream",
     "text": [
      "✅ Файл сохранён: C:\\Users\\tatarikov\\Desktop\\R scripts\\Daily report\\Query list without subject.id_19-05-2025.xlsx\n"
     ]
    }
   ],
   "source": [
    "# Объединение двух датафреймов\n",
    "query_list = pd.concat([df_filtered_updated, df_filtered_new], ignore_index=True)\n",
    "\n",
    "# Генерация названия файла с текущей датой\n",
    "current_date = datetime.now().strftime(\"%d-%m-%Y\")\n",
    "file_name = f\"Query list without subject.id_{current_date}.xlsx\"\n",
    "\n",
    "# Путь к папке сохранения\n",
    "save_path = r\"C:\\Users\\tatarikov\\Desktop\\R scripts\\Daily report\"\n",
    "\n",
    "# Полный путь к файлу\n",
    "full_file_path = os.path.join(save_path, file_name)\n",
    "\n",
    "# Сохранение в Excel\n",
    "query_list.to_excel(full_file_path, index=False)\n",
    "\n",
    "print(f\"✅ Файл сохранён: {full_file_path}\")"
   ]
  },
  {
   "cell_type": "code",
   "execution_count": 63,
   "id": "390a7d60-bd5a-4beb-9522-c0407a725930",
   "metadata": {},
   "outputs": [
    {
     "data": {
      "text/plain": [
       "pandas.core.frame.DataFrame"
      ]
     },
     "execution_count": 63,
     "metadata": {},
     "output_type": "execute_result"
    }
   ],
   "source": [
    "type(query_list)"
   ]
  },
  {
   "cell_type": "code",
   "execution_count": 66,
   "id": "3cd9856a-4303-4e68-b1d5-296fede9be23",
   "metadata": {},
   "outputs": [
    {
     "name": "stdout",
     "output_type": "stream",
     "text": [
      "Столбцы в rez: Index(['Screening.ID', 'Subject.ID_x', 'Query.number', 'Type', 'Event.name',\n",
      "       'CRF', 'Entity.name', 'Old.value', 'New.value', 'Day/Time', 'User',\n",
      "       'Value.type', 'Old.value.1', 'New.value.1', 'Status_x', 'row_number',\n",
      "       'Subject.ID_y', 'Initials', 'Sex', 'Date.of.birth', 'Comment',\n",
      "       'Stratification', 'Date.and.time.created', 'Site', 'Status_y',\n",
      "       'Randomization.date/time', 'Signed'],\n",
      "      dtype='object')\n",
      "Файл сохранен: C:\\Users\\tatarikov\\Desktop\\R scripts\\Daily report\\Query list with subject.id_19-05-2025.xlsx\n"
     ]
    }
   ],
   "source": [
    "import pandas as pd\n",
    "from datetime import datetime\n",
    "\n",
    "# 1. Добавляем номер строки в query_list\n",
    "query_list[\"row_number\"] = range(1, len(query_list) + 1)\n",
    "\n",
    "# 2. Читаем Excel файл Randomization list\n",
    "randomization_path = r\"C:\\Users\\tatarikov\\Desktop\\R scripts\\Randomization list.xlsx\"\n",
    "randomization_list = pd.read_excel(randomization_path)\n",
    "\n",
    "# 2. Приводим названия столбцов к единому формату (заменяем пробелы на точки)\n",
    "query_list.columns = query_list.columns.str.replace(\" \", \".\")\n",
    "randomization_list.columns = randomization_list.columns.str.replace(\" \", \".\")\n",
    "\n",
    "# 3. Приводим тип данных в поле \"Subject ID\" к строковому\n",
    "query_list[\"Subject.ID\"] = query_list[\"Subject.ID\"].astype(str)\n",
    "randomization_list[\"Subject.ID\"] = randomization_list[\"Subject.ID\"].astype(str)\n",
    "\n",
    "# 5. Выполняем inner join по \"Subject ID\"\n",
    "rez = query_list.merge(randomization_list, on=\"Screening.ID\", how=\"left\")\n",
    "\n",
    "# 6. Проверяем, какие именно столбцы есть в результирующем датафрейме\n",
    "print(\"Столбцы в rez:\", rez.columns)\n",
    "\n",
    "# 7. Сортируем по номеру строки и выбираем нужные столбцы\n",
    "rez = rez.sort_values(\"row_number\")[[\n",
    "    \"Screening.ID\", \"Subject.ID_y\", \"Query.number\", \"Event.name\",\n",
    "    \"CRF\", \"Entity.name\", \"Day/Time\", \"User\", \"Status_x\"\n",
    "]]\n",
    "\n",
    "# 9. Формируем имя файла с текущей датой\n",
    "today_date = datetime.today().strftime(\"%d-%m-%Y\")\n",
    "file_name = f\"Query list with subject.id_{today_date}.xlsx\"\n",
    "save_path = fr\"C:\\Users\\tatarikov\\Desktop\\R scripts\\Daily report\\{file_name}\"\n",
    "\n",
    "# 10. Сохраняем результат в Excel\n",
    "rez.to_excel(save_path, index=False)\n",
    "\n",
    "print(f\"Файл сохранен: {save_path}\")\n"
   ]
  },
  {
   "cell_type": "code",
   "execution_count": 67,
   "id": "98f8aabb-4ce7-4641-a290-b0449a7c9d0d",
   "metadata": {},
   "outputs": [
    {
     "name": "stdout",
     "output_type": "stream",
     "text": [
      "Файл сохранен: C:\\Users\\tatarikov\\Desktop\\R scripts\\Daily report\\Query list_19.05.2025.xlsx\n"
     ]
    }
   ],
   "source": [
    "# Список файлов, содержащих Query.number\n",
    "files = [\n",
    "    \"Квери по форме Albumin-adjusted serum Ca(calcium).xlsx\",\n",
    "    \"Квери по форме biochemistry.xlsx\",\n",
    "    \"Квери по форме Biochemistry_for RFRB.xlsx\",\n",
    "    \"Квери по форме drug administration.xlsx\",\n",
    "    \"Квери по форме ECOG.xlsx\",\n",
    "    \"Квери по форме FLC for RF RB.xlsx\",\n",
    "    \"Квери по форме FLC.xlsx\",\n",
    "    \"Квери по форме Hematology for RF RB.xlsx\",\n",
    "    \"Квери по форме Hematology.xlsx\",\n",
    "    \"Квери по форме Hepatitis B Virus DNA, qualitative PCR_for RFRB.xlsx\",\n",
    "    \"Квери по форме Immunogenicity.xlsx\",\n",
    "    \"Квери по форме Lytic bone lesions.xlsx\",\n",
    "    \"Квери по форме Pharmacokinetics.xlsx\",\n",
    "    \"Квери по форме Response Evaluation.xlsx\",\n",
    "    \"Квери по форме sife.xlsx\",\n",
    "    \"Квери по форме SPEP.xlsx\",\n",
    "    \"Квери по форме UIFE.xlsx\",\n",
    "    \"Квери по форме UPEP.xlsx\",\n",
    "    \"Квери по форме Vital signs before and after drug administration.xlsx\",\n",
    "    \"Квери по форме Vital signs.xlsx\",\n",
    "    \"Квери по форме визитов.xlsx\",\n",
    "    \"Квери по форме общего анализа мочи.xlsx\",\n",
    "    \"Квери по форме постмедикации.xlsx\",\n",
    "    \"Квери по форме премедикации.xlsx\",\n",
    "    \"Квери по форме Leukocyte formula.xlsx\",\n",
    "    \"Квери по форме Weight.xlsx\"\n",
    "]\n",
    "\n",
    "# Папка с файлами\n",
    "folder_path = r\"C:\\Users\\tatarikov\\Desktop\\R scripts\\Трекер с PD\"\n",
    "\n",
    "# Читаем все файлы и собираем уникальные значения Query.number в список\n",
    "query_numbers_to_remove = []\n",
    "\n",
    "for file in files:\n",
    "    file_path = fr\"{folder_path}\\{file}\"\n",
    "    df = pd.read_excel(file_path)\n",
    "    \n",
    "    # Предположим, что Query.number находится в столбце с именем \"Query.number\"\n",
    "    if \"Query.number\" in df.columns:\n",
    "        query_numbers_to_remove.extend(df[\"Query.number\"].dropna().unique())\n",
    "\n",
    "# Преобразуем в набор для быстрого поиска\n",
    "query_numbers_to_remove = set(query_numbers_to_remove)\n",
    "\n",
    "# 1. Оставляем только те строки в rez, где Query.number не присутствует в query_numbers_to_remove\n",
    "rez_filtered = rez[~rez[\"Query.number\"].isin(query_numbers_to_remove)]\n",
    "\n",
    "# Переименование столбцов в датафрейме rez_filtered\n",
    "rez_filtered = rez_filtered.rename(columns={\n",
    "    'Subject.ID_y': 'Subject.ID',\n",
    "    'Status_x': 'Status'\n",
    "})\n",
    "\n",
    "\n",
    "# Приводим поле к строковому типу для корректной обработки\n",
    "rez_filtered['Subject.ID'] = rez_filtered['Subject.ID'].astype(str)\n",
    "\n",
    "# Фильтруем строки\n",
    "mask = (\n",
    "    rez_filtered['Subject.ID'].notna() &  # не np.nan\n",
    "    (rez_filtered['Subject.ID'].str.strip() != '') &  # не пустая строка\n",
    "    (rez_filtered['Subject.ID'].str.strip().str.lower() != 'nan')  # не 'nan' (в любом регистре)\n",
    ")\n",
    "rez_filtered = rez_filtered[mask].reset_index(drop=True)\n",
    "\n",
    "\n",
    "\n",
    "# Сохраняем результат в новый файл\n",
    "today_date = datetime.today().strftime(\"%d.%m.%Y\")\n",
    "file_name = f\"Query list_{today_date}.xlsx\"\n",
    "save_path = fr\"C:\\Users\\tatarikov\\Desktop\\R scripts\\Daily report\\{file_name}\"\n",
    "\n",
    "rez_filtered.to_excel(save_path, index=False)\n",
    "\n",
    "print(f\"Файл сохранен: {save_path}\")"
   ]
  },
  {
   "cell_type": "code",
   "execution_count": 68,
   "id": "af20953f-67a4-48cc-aae0-f6b7a701c7a6",
   "metadata": {},
   "outputs": [
    {
     "name": "stdout",
     "output_type": "stream",
     "text": [
      "Отчет сохранен: C:\\Users\\tatarikov\\Desktop\\R scripts\\Daily report\\query_report.txt\n"
     ]
    },
    {
     "name": "stderr",
     "output_type": "stream",
     "text": [
      "C:\\Users\\tatarikov\\AppData\\Local\\Temp\\ipykernel_9124\\2473035214.py:66: UserWarning: Boolean Series key will be reindexed to match DataFrame index.\n",
      "  alpha = len(rez_filtered[rez['CRF'].isin(crf_values)])\n"
     ]
    }
   ],
   "source": [
    "# Список файлов, которые необходимо прочитать\n",
    "file_names = [\n",
    "    \"Квери по форме Albumin-adjusted serum Ca(calcium).xlsx\",\n",
    "    \"Квери по форме biochemistry.xlsx\",\n",
    "    \"Квери по форме Biochemistry_for RFRB.xlsx\",\n",
    "    \"Квери по форме drug administration.xlsx\",\n",
    "    \"Квери по форме ECOG.xlsx\",\n",
    "    \"Квери по форме FLC for RF RB.xlsx\",\n",
    "    \"Квери по форме FLC.xlsx\",\n",
    "    \"Квери по форме Hematology for RF RB.xlsx\",\n",
    "    \"Квери по форме Hematology.xlsx\",\n",
    "    \"Квери по форме Hepatitis B Virus DNA, qualitative PCR_for RFRB.xlsx\",\n",
    "    \"Квери по форме Immunogenicity.xlsx\",\n",
    "    \"Квери по форме Lytic bone lesions.xlsx\",\n",
    "    \"Квери по форме Pharmacokinetics.xlsx\",\n",
    "    \"Квери по форме Response Evaluation.xlsx\",\n",
    "    \"Квери по форме sife.xlsx\",\n",
    "    \"Квери по форме SPEP.xlsx\",\n",
    "    \"Квери по форме UIFE.xlsx\",\n",
    "    \"Квери по форме UPEP.xlsx\",\n",
    "    \"Квери по форме Vital signs before and after drug administration.xlsx\",\n",
    "    \"Квери по форме Vital signs.xlsx\",\n",
    "    \"Квери по форме визитов.xlsx\",\n",
    "    \"Квери по форме общего анализа мочи.xlsx\",\n",
    "    \"Квери по форме постмедикации.xlsx\",\n",
    "    \"Квери по форме премедикации.xlsx\",\n",
    "    \"Квери по форме Leukocyte formula.xlsx\",\n",
    "    \"Квери по форме Weight.xlsx\"\n",
    "]\n",
    "\n",
    "# Путь к папке, в которой находятся файлы\n",
    "folder_path = r\"C:\\Users\\tatarikov\\Desktop\\R scripts\\Трекер с PD\"\n",
    "\n",
    "# Считываем все файлы в список датафреймов\n",
    "dfs = []\n",
    "for file_name in file_names:\n",
    "    file_path = os.path.join(folder_path, file_name)\n",
    "    if os.path.exists(file_path):\n",
    "        df = pd.read_excel(file_path)\n",
    "        dfs.append(df)\n",
    "\n",
    "# Объединяем все датафреймы в один\n",
    "combined_df = pd.concat(dfs, ignore_index=True)\n",
    "\n",
    "\n",
    "\n",
    "\n",
    "\n",
    "\n",
    "# 8. Количество квери в статусе \"New\" и \"Updated\"\n",
    "total_queries = len(rez_filtered)\n",
    "new_queries = len(rez_filtered[rez_filtered['Status'] == 'New'])\n",
    "updated_queries = len(rez_filtered[rez_filtered['Status'] == 'Updated'])\n",
    "\n",
    "# 9. Количество строк в файлах для Potential PD\n",
    "potential_pd_queries = len(combined_df)\n",
    "\n",
    "# 10. Общий подсчет для квери с нужными значениями CRF\n",
    "crf_values = [\n",
    "    \"Soft tissue plasmacytomas\", \"SPEP\", \"SPEP_for RF/RB\",\n",
    "    \"Immunofixation (UIFE)\", \"Daratumumab-specific immunofixation test\",\n",
    "    \"Albumin-adjusted serum Ca(calcium)_for RF/RB\", \"FLC\", \n",
    "    \"FLC for RF/RB\", \"Main disease anamnesis\", \"_Aspiration / trephine biopsy of the bone marrow\"\n",
    "]\n",
    "\n",
    "alpha = len(rez_filtered[rez['CRF'].isin(crf_values)])\n",
    "\n",
    "# 11. Подсчет по статусам (New, Updated) для нужных значений CRF\n",
    "beta = len(rez_filtered[(rez_filtered['Status'] == 'New') & (rez_filtered['CRF'].isin(crf_values))])\n",
    "gamma = len(rez_filtered[(rez_filtered['Status'] == 'Updated') & (rez_filtered['CRF'].isin(crf_values))])\n",
    "\n",
    "# Формирование отчета\n",
    "report = f\"\"\"\n",
    "Уважаемые коллеги, прикладываю 2 файла с квери\n",
    "1) Файл с квери в статусе New и Updated\n",
    "2) Файл с квери в статусе Updated, которые являются Potential PD и не зарегистрированы\n",
    "\n",
    "Общее количество квери: {total_queries}\n",
    "Количество квери в статусе New: {new_queries}\n",
    "Количество квери в статусе Updated: {updated_queries}\n",
    "\n",
    "Количество квери, которые являются potential pd: {potential_pd_queries}\n",
    "\n",
    "Для форм:\n",
    "Soft tissue plasmacytomas, Serum protein immunofixation (SIFE)\n",
    "SPEP\n",
    "Immunofixation (UIFE)\n",
    "Daratumumab-specific immunofixation test\n",
    "Albumin-adjusted serum Ca(calcium)\n",
    "FLC\n",
    "Main disease anamnesis\n",
    "Aspiration / trephine biopsy of the bone marrow\n",
    "\n",
    "Общее количество квери: {alpha}\n",
    "В статусе New: {beta}\n",
    "В статусе Updated: {gamma}\n",
    "\"\"\"\n",
    "\n",
    "# Сохранение в .txt файл\n",
    "file_path = r\"C:\\Users\\tatarikov\\Desktop\\R scripts\\Daily report\\query_report.txt\"\n",
    "with open(file_path, 'w') as file:\n",
    "    file.write(report)\n",
    "\n",
    "print(f\"Отчет сохранен: {file_path}\")"
   ]
  },
  {
   "cell_type": "code",
   "execution_count": 69,
   "id": "c4705192-529a-48a4-956c-6d0018dbac8f",
   "metadata": {},
   "outputs": [
    {
     "name": "stdout",
     "output_type": "stream",
     "text": [
      "Файл сохранен: C:\\Users\\tatarikov\\Desktop\\R scripts\\Трекер с PD\\PD list 19.05.2025.xlsx\n"
     ]
    }
   ],
   "source": [
    "# Часть скрипта, объединяющая все excel файлы с PD в один\n",
    "\n",
    "# Список файлов для объединения\n",
    "file_names = [\n",
    "    \"Квери по форме Albumin-adjusted serum Ca(calcium).xlsx\",\n",
    "    \"Квери по форме biochemistry.xlsx\",\n",
    "    \"Квери по форме Biochemistry_for RFRB.xlsx\",\n",
    "    \"Квери по форме drug administration.xlsx\",\n",
    "    \"Квери по форме ECOG.xlsx\",\n",
    "    \"Квери по форме FLC for RF RB.xlsx\",\n",
    "    \"Квери по форме FLC.xlsx\",\n",
    "    \"Квери по форме Hematology for RF RB.xlsx\",\n",
    "    \"Квери по форме Hematology.xlsx\",\n",
    "    \"Квери по форме Hepatitis B Virus DNA, qualitative PCR_for RFRB.xlsx\",\n",
    "    \"Квери по форме Immunogenicity.xlsx\",\n",
    "    \"Квери по форме Lytic bone lesions.xlsx\",\n",
    "    \"Квери по форме Pharmacokinetics.xlsx\",\n",
    "    \"Квери по форме Response Evaluation.xlsx\",\n",
    "    \"Квери по форме sife.xlsx\",\n",
    "    \"Квери по форме SPEP.xlsx\",\n",
    "    \"Квери по форме UIFE.xlsx\",\n",
    "    \"Квери по форме UPEP.xlsx\",\n",
    "    \"Квери по форме Vital signs before and after drug administration.xlsx\",\n",
    "    \"Квери по форме Vital signs.xlsx\",\n",
    "    \"Квери по форме визитов.xlsx\",\n",
    "    \"Квери по форме общего анализа мочи.xlsx\",\n",
    "    \"Квери по форме постмедикации.xlsx\",\n",
    "    \"Квери по форме премедикации.xlsx\",\n",
    "    \"Квери по форме Leukocyte formula.xlsx\",\n",
    "    \"Квери по форме Weight.xlsx\"\n",
    "]\n",
    "\n",
    "# Путь к папке с файлами\n",
    "folder_path = r\"C:\\Users\\tatarikov\\Desktop\\R scripts\\Трекер с PD\"\n",
    "\n",
    "# Считываем все файлы в список датафреймов\n",
    "dfs = []\n",
    "for file_name in file_names:\n",
    "    file_path = os.path.join(folder_path, file_name)\n",
    "    if os.path.exists(file_path):\n",
    "        df = pd.read_excel(file_path)\n",
    "        dfs.append(df)\n",
    "    else:\n",
    "        print(f\"Файл не найден: {file_name}\")\n",
    "\n",
    "# Объединяем все датафреймы в один\n",
    "if dfs:\n",
    "    combined_df = pd.concat(dfs, ignore_index=True)\n",
    "    \n",
    "    # Формируем имя файла с текущей датой\n",
    "    today_date = datetime.today().strftime(\"%d.%m.%Y\")\n",
    "    file_name = f\"PD list {today_date}.xlsx\"\n",
    "    save_path = os.path.join(folder_path, file_name)\n",
    "    \n",
    "    # Сохраняем результат в Excel\n",
    "    combined_df.to_excel(save_path, index=False)\n",
    "    print(f\"Файл сохранен: {save_path}\")\n",
    "else:\n",
    "    print(\"Не найдено файлов для объединения.\")"
   ]
  },
  {
   "cell_type": "code",
   "execution_count": null,
   "id": "5829db6a-f568-499c-9832-564e569575eb",
   "metadata": {},
   "outputs": [],
   "source": []
  },
  {
   "cell_type": "code",
   "execution_count": null,
   "id": "349d3474-bc0e-455e-886e-16af1d5f7409",
   "metadata": {},
   "outputs": [],
   "source": []
  }
 ],
 "metadata": {
  "kernelspec": {
   "display_name": "Python 3 (ipykernel)",
   "language": "python",
   "name": "python3"
  },
  "language_info": {
   "codemirror_mode": {
    "name": "ipython",
    "version": 3
   },
   "file_extension": ".py",
   "mimetype": "text/x-python",
   "name": "python",
   "nbconvert_exporter": "python",
   "pygments_lexer": "ipython3",
   "version": "3.12.4"
  }
 },
 "nbformat": 4,
 "nbformat_minor": 5
}
