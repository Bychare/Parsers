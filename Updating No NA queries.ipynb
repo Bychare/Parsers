{
 "cells": [
  {
   "cell_type": "code",
   "execution_count": 1,
   "id": "4f9c5c6e-56af-455c-a277-e93564f09f83",
   "metadata": {},
   "outputs": [],
   "source": [
    "from selenium import webdriver\n",
    "from selenium.webdriver.common.by import By\n",
    "from selenium.webdriver.common.keys import Keys\n",
    "from selenium.webdriver.support.ui import WebDriverWait\n",
    "from selenium.webdriver.support import expected_conditions as EC\n",
    "from selenium.common.exceptions import TimeoutException, NoSuchElementException, StaleElementReferenceException\n",
    "from selenium.webdriver.support.ui import Select\n",
    "\n",
    "import time\n",
    "import os\n",
    "import zipfile\n",
    "\n",
    "import shutil\n",
    "from glob import glob\n",
    "import pandas as pd\n",
    "from datetime import datetime\n"
   ]
  },
  {
   "cell_type": "code",
   "execution_count": 2,
   "id": "84937bbc-428e-4c2b-b506-ccf7b2ba4fc9",
   "metadata": {},
   "outputs": [],
   "source": [
    "# Папка, где хранится трекер\n",
    "download_dir = r\"C:\\Users\\tatarikov\\Desktop\\R scripts\\Daily report\""
   ]
  },
  {
   "cell_type": "code",
   "execution_count": 3,
   "id": "236922f2-a632-4d96-b0e8-f1bcfbc0a7b8",
   "metadata": {},
   "outputs": [],
   "source": [
    "    options = webdriver.ChromeOptions()\n",
    "    driver = webdriver.Chrome(options=options)"
   ]
  },
  {
   "cell_type": "code",
   "execution_count": 4,
   "id": "10e556b5-6bc5-4cfa-9f83-cbc44b35d461",
   "metadata": {},
   "outputs": [],
   "source": [
    "# Здесь был переход по ссылке с ИРК"
   ]
  },
  {
   "cell_type": "code",
   "execution_count": 5,
   "id": "bdecc7e9-6311-44f7-9c00-68c2d473ce90",
   "metadata": {},
   "outputs": [],
   "source": [
    "wait = WebDriverWait(driver, 10)\n",
    "input_field = wait.until(EC.presence_of_element_located((\n",
    "        By.CSS_SELECTOR, \"#id_username\"\n",
    "    )))\n",
    "input_field.send_keys(\"user\")"
   ]
  },
  {
   "cell_type": "code",
   "execution_count": 6,
   "id": "30caf4c4-6c60-478f-b710-b1159ce61886",
   "metadata": {},
   "outputs": [],
   "source": [
    "input_field = wait.until(EC.presence_of_element_located((\n",
    "        By.CSS_SELECTOR, \"#id_password\"\n",
    "    )))\n",
    "input_field.send_keys(\"password\")"
   ]
  },
  {
   "cell_type": "code",
   "execution_count": 7,
   "id": "8e629002-bc9a-4e98-ba52-bc3c57858c20",
   "metadata": {},
   "outputs": [],
   "source": [
    "button = driver.find_element(By.CSS_SELECTOR, \"#submit-id-submit\")\n",
    "button.click()"
   ]
  },
  {
   "cell_type": "code",
   "execution_count": null,
   "id": "d5a453cd-3a34-4cd9-ab9b-baa9426964cd",
   "metadata": {},
   "outputs": [],
   "source": [
    "# Здесь был переход в раздел с находками"
   ]
  },
  {
   "cell_type": "code",
   "execution_count": 9,
   "id": "def1fa4d-b0b3-436e-9f41-0a0a6dfc624f",
   "metadata": {},
   "outputs": [],
   "source": [
    "# Находим поле ввода\n",
    "input_field = driver.find_element(By.CSS_SELECTOR, \"#wrap > div.container-fluid.main > main > query-tbl > table > thead > tr.ng-table-filters > th:nth-child(2) > div > input\")\n",
    "\n",
    "# Очистка поля \n",
    "input_field.clear()"
   ]
  },
  {
   "cell_type": "code",
   "execution_count": null,
   "id": "136410a5-616f-4f7b-9240-5848a1c60f3b",
   "metadata": {},
   "outputs": [],
   "source": [
    "import pandas as pd\n",
    "from datetime import datetime\n",
    "import os\n",
    "\n",
    "# Установка рабочей директории\n",
    "work_dir = r\"C:\\Users\\tatarikov\\Desktop\\R scripts\\Daily report\"\n",
    "os.chdir(work_dir)\n",
    "\n",
    "# Получение сегодняшней даты в формате ДД.ММ.ГГГГ\n",
    "today_str = datetime.today().strftime('%d.%m.%Y')\n",
    "\n",
    "# Формирование имени файла\n",
    "filename = f\"not_yes_queries.xlsx\"\n",
    "\n",
    "# Чтение Excel-файла\n",
    "filtered_df = pd.read_excel(filename, engine='openpyxl', skiprows=0)\n",
    "\n",
    "# Вывод первых строк\n",
    "print(filtered_df.head())"
   ]
  },
  {
   "cell_type": "code",
   "execution_count": 11,
   "id": "651803fd-0af6-4b23-a981-f902e47b9afa",
   "metadata": {},
   "outputs": [
    {
     "name": "stdout",
     "output_type": "stream",
     "text": [
      "50\n"
     ]
    }
   ],
   "source": [
    "# Вывод количества строк\n",
    "print(len(filtered_df))"
   ]
  },
  {
   "cell_type": "code",
   "execution_count": null,
   "id": "18083391-b528-44fe-a9b1-9f3f21ce2d3b",
   "metadata": {},
   "outputs": [
    {
     "name": "stdout",
     "output_type": "stream",
     "text": [
      "\n",
      "=== Обработка запроса [763237] ===\n",
      "[763237] Тип: Query monitoring data\n",
      "[763237] Выбрано: New.\n",
      "[763237] Description установлен: Incorrect data\n",
      "[763237] Комментарий добавлен.\n",
      "[763237] Сохранение выполнено.\n",
      "\n",
      "=== Обработка запроса [763278] ===\n",
      "[763278] Тип: Query monitoring data\n",
      "[763278] Выбрано: New.\n",
      "[763278] Description установлен: Incorrect data\n",
      "[763278] Комментарий добавлен.\n",
      "[763278] Сохранение выполнено.\n",
      "\n",
      "=== Обработка запроса [762870] ===\n",
      "[762870] Тип: Query monitoring data\n",
      "[762870] Выбрано: New.\n",
      "[762870] Description установлен: Incorrect data\n",
      "[762870] Комментарий добавлен.\n",
      "[762870] Сохранение выполнено.\n",
      "\n",
      "=== Обработка запроса [762930] ===\n",
      "[762930] Тип: Reason for change\n",
      "[762930] Выбрано: New.\n",
      "[762930] Комментарий добавлен.\n",
      "[762930] Сохранение выполнено.\n",
      "\n",
      "=== Обработка запроса [762932] ===\n",
      "[762932] Тип: Reason for change\n",
      "[762932] Выбрано: New.\n",
      "[762932] Комментарий добавлен.\n",
      "[762932] Сохранение выполнено.\n",
      "\n",
      "=== Обработка запроса [763413] ===\n",
      "[763413] Тип: Query monitoring data\n",
      "[763413] Выбрано: New.\n",
      "[763413] Description установлен: Incorrect data\n",
      "[763413] Комментарий добавлен.\n",
      "[763413] Сохранение выполнено.\n",
      "\n",
      "=== Обработка запроса [762931] ===\n",
      "[762931] Тип: Reason for change\n",
      "[762931] Выбрано: New.\n",
      "[762931] Комментарий добавлен.\n",
      "[762931] Сохранение выполнено.\n",
      "\n",
      "=== Обработка запроса [763099] ===\n",
      "[763099] Тип: Query monitoring data\n",
      "[763099] Выбрано: New.\n",
      "[763099] Description установлен: Incorrect data\n",
      "[763099] Комментарий добавлен.\n",
      "[763099] Сохранение выполнено.\n",
      "\n",
      "=== Обработка запроса [762970] ===\n",
      "[762970] Тип: Query monitoring data\n",
      "[762970] Выбрано: New.\n"
     ]
    }
   ],
   "source": [
    "# === Обработка каждой строки ===\n",
    "for index, row in filtered_df.iterrows():\n",
    "    query_number = row[\"Query.number\"]\n",
    "    print(f\"\\n=== Обработка запроса [{query_number}] ===\")\n",
    "\n",
    "    try:\n",
    "        # Вводим Query.number в фильтр\n",
    "        input_field = driver.find_element(By.CSS_SELECTOR,\n",
    "            \"#wrap > div.container-fluid.main > main > query-tbl > table > thead > tr.ng-table-filters > th:nth-child(4) input\")\n",
    "        input_field.clear()\n",
    "        input_field.send_keys(str(query_number))\n",
    "        input_field.send_keys(Keys.ENTER)\n",
    "        time.sleep(2)\n",
    "\n",
    "        # Определяем тип запроса\n",
    "        type_field = driver.find_element(By.CSS_SELECTOR,\n",
    "            \"#wrap > div.container-fluid.main > main > query-tbl > table > tbody > tr > td:nth-child(5)\")\n",
    "        type_value = type_field.text.strip()\n",
    "        print(f\"[{query_number}] Тип: {type_value}\")\n",
    "\n",
    "        # Нажимаем кнопку \"Edit\"\n",
    "        action_button = driver.find_element(By.CSS_SELECTOR,\n",
    "            \"#wrap > div.container-fluid.main > main > query-tbl > table > tbody > tr > td:nth-child(13) > span:nth-child(2) > button\")\n",
    "        action_button.click()\n",
    "        time.sleep(2)\n",
    "\n",
    "        # === Изменение статуса на \"New\" ===\n",
    "        # Находим сначала саму модалку\n",
    "        modal = WebDriverWait(driver, 10).until(\n",
    "            EC.presence_of_element_located((By.CSS_SELECTOR, \"body > div.modal.fade.in\"))\n",
    "        )\n",
    "        time.sleep(1)\n",
    "        # Затем уже ищем select внутри модалки\n",
    "        status_select_element = modal.find_element(By.NAME, \"status\")\n",
    "        \n",
    "        # Выбираем нужное значение\n",
    "        select = Select(status_select_element)\n",
    "        select.select_by_visible_text(\"New\")\n",
    "        print(f\"[{query_number}] Выбрано: New.\")\n",
    "        time.sleep(1)\n",
    "        # === Если тип — Query monitoring data ===\n",
    "        if type_value == \"Query monitoring data\":\n",
    "            # Изменяем Description на \"Query response monitored\"\n",
    "            time.sleep(2)\n",
    "            description_wrapper = WebDriverWait(driver, 10).until(\n",
    "                EC.presence_of_element_located((By.CSS_SELECTOR, \"div.col-sm-9[ng-if='qrAeVm.edit']\"))\n",
    "            )\n",
    "            description_select = Select(description_wrapper.find_element(By.NAME, \"description\"))\n",
    "            description_select.select_by_visible_text(\"Incorrect data\")\n",
    "            print(f\"[{query_number}] Description установлен: Incorrect data\")\n",
    "\n",
    "        # === Вводим комментарий ===\n",
    "        textarea = WebDriverWait(driver, 20).until(\n",
    "            EC.presence_of_element_located((By.XPATH, \"//div[contains(@ng-if, 'qrAeVm.queryIsNotAnnotationAndClosed')]//textarea[@name='detail_note']\"))\n",
    "        )\n",
    "\n",
    "        comment_text = \"Please enter the analysis data in this eCRF form regardless of whether it was performed in the central or local laboratory\"\n",
    "        driver.execute_script(\"\"\"\n",
    "            var el = arguments[0];\n",
    "            var text = arguments[1];\n",
    "            el.value = text;\n",
    "            var event = new Event('input', { bubbles: true });\n",
    "            el.dispatchEvent(event);\n",
    "            var changeEvent = new Event('change', { bubbles: true });\n",
    "            el.dispatchEvent(changeEvent);\n",
    "        \"\"\", textarea, comment_text)\n",
    "        print(f\"[{query_number}] Комментарий добавлен.\")\n",
    "\n",
    "        # === Сохраняем изменения ===\n",
    "        save_button = driver.find_element(By.CSS_SELECTOR,\n",
    "            \"body > div.modal.fade.in > div > div > div.modal-footer > button.btn.btn-primary\")\n",
    "        save_button.click()\n",
    "        print(f\"[{query_number}] Сохранение выполнено.\")\n",
    "\n",
    "        # Обновляем статус в DataFrame\n",
    "        filtered_df.at[index, 'Status'] = 'Closed'\n",
    "\n",
    "    except Exception as e:\n",
    "        print(f\"[{query_number}] Ошибка: {e}\")\n",
    "\n",
    "    time.sleep(2)"
   ]
  },
  {
   "cell_type": "code",
   "execution_count": null,
   "id": "789546d5-d939-4f18-bec3-b7f844d35681",
   "metadata": {},
   "outputs": [],
   "source": []
  }
 ],
 "metadata": {
  "kernelspec": {
   "display_name": "Python 3 (ipykernel)",
   "language": "python",
   "name": "python3"
  },
  "language_info": {
   "codemirror_mode": {
    "name": "ipython",
    "version": 3
   },
   "file_extension": ".py",
   "mimetype": "text/x-python",
   "name": "python",
   "nbconvert_exporter": "python",
   "pygments_lexer": "ipython3",
   "version": "3.12.4"
  }
 },
 "nbformat": 4,
 "nbformat_minor": 5
}
