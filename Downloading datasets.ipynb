{
 "cells": [
  {
   "cell_type": "code",
   "execution_count": 1,
   "id": "f107901b-71e1-43be-9beb-492760da54c5",
   "metadata": {},
   "outputs": [],
   "source": [
    "import pandas as pd\n",
    "import numpy as np"
   ]
  },
  {
   "cell_type": "code",
   "execution_count": 2,
   "id": "49dbada2-0460-418f-a98a-16369dcedb66",
   "metadata": {},
   "outputs": [],
   "source": [
    "from selenium import webdriver\n",
    "from selenium.webdriver.common.by import By\n",
    "from selenium.webdriver.common.keys import Keys\n",
    "from selenium.webdriver.support.ui import WebDriverWait\n",
    "from selenium.webdriver.support import expected_conditions as EC\n",
    "from selenium.common.exceptions import TimeoutException, NoSuchElementException, StaleElementReferenceException\n",
    "\n",
    "import time"
   ]
  },
  {
   "cell_type": "code",
   "execution_count": 3,
   "id": "df885a69-ee75-4ab4-be87-1ab02fe0aafa",
   "metadata": {},
   "outputs": [],
   "source": [
    "import os\n",
    "import zipfile"
   ]
  },
  {
   "cell_type": "code",
   "execution_count": 4,
   "id": "4bd13a84-af40-4592-b82a-677f949fe732",
   "metadata": {},
   "outputs": [],
   "source": [
    "# Папка, куда загружаются файлы\n",
    "download_dir = r\"C:\\Users\\tatarikov\\Downloads\""
   ]
  },
  {
   "cell_type": "code",
   "execution_count": 5,
   "id": "3125a25c-9e52-4845-9ea2-0aeec41a767c",
   "metadata": {},
   "outputs": [],
   "source": [
    "    options = webdriver.ChromeOptions()\n",
    "    driver = webdriver.Chrome(options=options)"
   ]
  },
  {
   "cell_type": "code",
   "execution_count": 6,
   "id": "f7d22ccb-ed1e-4b04-8933-917af515698f",
   "metadata": {},
   "outputs": [],
   "source": [
    "# Здесь был переход на сайт с ИРК"
   ]
  },
  {
   "cell_type": "code",
   "execution_count": 7,
   "id": "ca4e33cd-7aa9-43b0-9fce-8335e88082a0",
   "metadata": {},
   "outputs": [],
   "source": [
    "wait = WebDriverWait(driver, 10)\n",
    "input_field = wait.until(EC.presence_of_element_located((\n",
    "        By.CSS_SELECTOR, \"#id_username\"\n",
    "    )))\n",
    "input_field.send_keys(\"user\")"
   ]
  },
  {
   "cell_type": "code",
   "execution_count": 8,
   "id": "8ac2b989-cb80-46c6-aa17-c72ca6110ee1",
   "metadata": {},
   "outputs": [],
   "source": [
    "input_field = wait.until(EC.presence_of_element_located((\n",
    "        By.CSS_SELECTOR, \"#id_password\"\n",
    "    )))\n",
    "input_field.send_keys(\"password\")"
   ]
  },
  {
   "cell_type": "code",
   "execution_count": 9,
   "id": "36cb9599-7ecf-42b1-9763-519840477050",
   "metadata": {},
   "outputs": [],
   "source": [
    "button = driver.find_element(By.CSS_SELECTOR, \"#submit-id-submit\")\n",
    "button.click()"
   ]
  },
  {
   "cell_type": "code",
   "execution_count": 10,
   "id": "20aa9fc0-1ba9-402d-adbd-aa8d02a39f93",
   "metadata": {},
   "outputs": [],
   "source": [
    "# Здесь был переход в раздел с находками"
   ]
  },
  {
   "cell_type": "code",
   "execution_count": 11,
   "id": "31de502e-1032-45eb-a67e-ecdb10bedbee",
   "metadata": {},
   "outputs": [],
   "source": [
    "input_field = wait.until(EC.presence_of_element_located((\n",
    "        By.CSS_SELECTOR, \"#wrap > div.container-fluid.main > main > datasets-table > table > thead > tr.ng-table-filters > th:nth-child(4) > div > input\"\n",
    "    )))\n",
    "input_field.send_keys(\"Klim Tatarikov (tatarikov)\")"
   ]
  },
  {
   "cell_type": "code",
   "execution_count": 15,
   "id": "4f906cd8-8a30-4ca6-907c-23aa13d941a4",
   "metadata": {},
   "outputs": [],
   "source": [
    "A = [\"# Date of visit_ET (Follow Up)\", \"DM_ 264_2_Hematology_Local lab\", \" Adverse events form\",\n",
    "    \" Albumin-adjusted serum Ca(calcium)_Central lab\", \" Albumin-adjusted serum Ca_LL\", \n",
    "     \" Aspiration  trephine biopsy of the bone marrow_Local lab\",\n",
    "    \" Beta-2 microglobulin_Central lab\", \" Beta-2 microglobulin_LL\",\n",
    "     \" Biochemistry_Central lab\", \" Biochemistry_Local_lab\", \" Blood parameters_Central lab\",\n",
    "     \" Blood parameters_Local lab\", \" Chest X-ray or CT\", \" Daratumumab-specific immunofixation test _Central lab\",\n",
    "     \" Date of Visit_(v)\", \" Date of visit_ET (Follow Up)\", \" Date of visit_Unsch\", \" Death report\",\n",
    "     \" Dispensing postmedication drugs\", \" Drug administration_blind period\", \" Drug administration_unblind period\",\n",
    "     \" ECOG\", \" Eligibility criteria ver. 1 07.07.2023\", \" Eligibility criteria ver. 2 05.02.2024\",\n",
    "     \" End of study form\", \" End of treatment form\", \" End of treatment visit (manual check 14)\", \n",
    "     \" FISH_Central lab\", \" FLC_v\", \" FLC_RF_RB\", \" General data\",\n",
    "     \" Height\", \" Hematology_Central lab\", \" Hepatitis B Virus DNA, qualitative PCR_Central lab\", \n",
    "     \" Hepatitis B Virus DNA, qualitative PCR_Local lab\", \" Hospitalization\", \" HSC transplantation\",\n",
    "     \" Immunofixation (UIFE)\", \" Immunogenicity\", \" LDH_Albumin_v\", \" LDH_Albumin_Central lab\",\n",
    "     \" Leukocyte formula_Central lab\", \" Leukocyte formula_Local lab\", \" Lytic bone lesions\", \n",
    "     \" Main disease anamnesis\", \" Medical history findings\", \" Medical history_v\", \" Neurological Examination\",\n",
    "     \" Pharmacokinetics\", \"Pharmacokinetic_test\", \" Physical examination\",\n",
    "     \" Postmedication\", \" Pregnancy test (HCG)_Central lab\", \" Pregnancy test (HCG)_Local lab\",\n",
    "     \" Premedication\", \" Previous radiotherapy\", \" Randomization form\",\n",
    "     \" Re-signature informed consent\", \n",
    "     \" Serological examination_Central lab\", \" Serological examination_Local lab\", \" Serum immunoglobulins_Central lab\",\n",
    "     \" Serum protein immunofixation (SIFE)\", \" Soft tissue plasmacytomas\", \" SPEP_v\",\n",
    "     \" SPEP_RF_RB\",\n",
    "     \" Telephone contact\", \" Unscheduled visit\", \" UPEP_RF_RB\", \" UPEP_v\",\n",
    "     \" Urinalysis\", \" Visit Date\", \" End of treatment visit_vv\", \" Screening (Dates)\", \" Previous systemic therapy\", \" Survival assessment\",\n",
    "     \" Vital signs before and after drug administration\", \" Vital signs_v\", \" Weight\", \" Date of visit_ET_\"]"
   ]
  },
  {
   "cell_type": "code",
   "execution_count": 16,
   "id": "42884de6-150a-4188-9434-012923a9fd5e",
   "metadata": {},
   "outputs": [],
   "source": [
    "# Visit for retest\n",
    "#  Response evaluation\n",
    "#  Pharmacokinetic_test\n",
    "#  Concomitant medication"
   ]
  },
  {
   "cell_type": "code",
   "execution_count": null,
   "id": "da8a70ed-88f5-4553-b909-b4de53572b9a",
   "metadata": {},
   "outputs": [],
   "source": [
    "from selenium.webdriver.support.ui import WebDriverWait\n",
    "from selenium.webdriver.support import expected_conditions as EC\n",
    "from selenium.common.exceptions import TimeoutException, NoSuchElementException, StaleElementReferenceException\n",
    "import time\n",
    "\n",
    "try:\n",
    "    wait = WebDriverWait(driver, 10)\n",
    "    input_field = wait.until(EC.presence_of_element_located((\n",
    "        By.CSS_SELECTOR, \"#wrap > div.container-fluid.main > main > datasets-table > table > thead > tr.ng-table-filters > th:nth-child(1) > div > input\"\n",
    "    )))\n",
    "    \n",
    "    for idx, value in enumerate(A):  # Используем индекс для правильного соответствия\n",
    "        try:\n",
    "            input_field.clear()  # Очищение поля для ввода, если оно непустое\n",
    "            input_field.send_keys(value)  # Ввод названия датасета\n",
    "            time.sleep(3)  # Ожидание, пока датасет прогрузится\n",
    "            \n",
    "            # Ждём, пока кнопка \"Form Dataset\" станет кликабельной\n",
    "            button = wait.until(EC.element_to_be_clickable((\n",
    "                By.CSS_SELECTOR, \"#wrap > div.container-fluid.main > main > datasets-table > table > tbody > tr:nth-child(1) > td.actions > span:nth-child(1) > button\"\n",
    "            )))\n",
    "            button.click()  # Нажатие на кнопку Form Dataset\n",
    "            \n",
    "            # Ждём, пока появится модальное окно\n",
    "            wait.until(EC.visibility_of_element_located((\n",
    "                By.CSS_SELECTOR, \"body > div.modal.fade.in\"\n",
    "            )))\n",
    "            \n",
    "            # Нажимаем кнопку \"OK\" в модальном окне\n",
    "            ok_button = wait.until(EC.element_to_be_clickable((\n",
    "                By.CSS_SELECTOR, \"body > div.modal.fade.in > div > div > div.modal-footer > button.btn.btn-info\"\n",
    "            )))\n",
    "            ok_button.click()\n",
    "            \n",
    "            # Ждём, пока модальное окно исчезнет\n",
    "            wait.until(EC.invisibility_of_element_located((\n",
    "                By.CSS_SELECTOR, \"body > div.modal.fade.in\"\n",
    "            )))\n",
    "\n",
    "            # Нажатие кнопки Refresh\n",
    "            time.sleep(30)\n",
    "            first_button = driver.find_element(By.CSS_SELECTOR, \"#wrap > div.container-fluid.main > main > datasets-table > div.pull-right > p > a:nth-child(2)\")\n",
    "            first_button.click()\n",
    "            \n",
    "\n",
    "            # Нажатие кнопки загрузки\n",
    "            time.sleep(3)\n",
    "            button = wait.until(EC.element_to_be_clickable((\n",
    "                By.CSS_SELECTOR, \"#wrap > div.container-fluid.main > main > datasets-table > table > tbody > tr:nth-child(1) > td.actions > span:nth-child(6) > button\"\n",
    "            )))\n",
    "            button.click()\n",
    "\n",
    "            # Выбор формата XLSX\n",
    "            time.sleep(1)\n",
    "            button = wait.until(EC.element_to_be_clickable((\n",
    "                By.CSS_SELECTOR, \"body > div.modal.fade.in > div > div > div.modal-body > download-dataset-form > div:nth-child(1) > button:nth-child(1)\"\n",
    "            )))\n",
    "            button.click()\n",
    "\n",
    "            # Закрытия окна с выбором формата\n",
    "            time.sleep(1)\n",
    "            button = wait.until(EC.element_to_be_clickable((\n",
    "                By.CSS_SELECTOR, \"body > div.modal.fade.in > div > div > div.modal-footer > button\"\n",
    "            )))\n",
    "            button.click()\n",
    "            \n",
    "\n",
    "            download_dir = r\"C:\\Users\\tatarikov\\Downloads\"\n",
    "            \n",
    "            # 🔥 **Ждём загрузку файла**\n",
    "            time.sleep(10)  \n",
    "\n",
    "            # 🔥 **Обновляем список файлов, начиная с \"dataset\"**\n",
    "            dataset_files = [f for f in os.listdir(download_dir) if f.startswith(\"dataset\") and (f.endswith('.zip') or f.endswith('.xlsx'))]\n",
    "            if not dataset_files:\n",
    "                raise FileNotFoundError(\"Файл dataset (zip или xlsx) не найден.\")\n",
    "\n",
    "            # 🔥 **Находим последний скачанный файл**\n",
    "            dataset_files.sort(key=lambda f: os.path.getmtime(os.path.join(download_dir, f)), reverse=True)\n",
    "            latest_file = dataset_files[0]  # Самый новый dataset-файл\n",
    "            file_path = os.path.join(download_dir, latest_file)\n",
    "\n",
    "            # 🔥 **Обрабатываем в зависимости от расширения**\n",
    "            name_prefix = A[idx]  # Выбираем имя по индексу списка A\n",
    "\n",
    "            if latest_file.endswith(\".xlsx\"):\n",
    "                # Если файл XLSX, переименовываем\n",
    "                new_xlsx_name = f\"{name_prefix}.xlsx\"\n",
    "                new_xlsx_path = os.path.join(download_dir, new_xlsx_name)\n",
    "                os.rename(file_path, new_xlsx_path)\n",
    "                print(f\"Файл {latest_file} переименован в {new_xlsx_name}\")\n",
    "\n",
    "            elif latest_file.endswith(\".zip\"):\n",
    "                # Если файл ZIP, распаковываем\n",
    "                with zipfile.ZipFile(file_path, 'r') as zip_ref:\n",
    "                    file_list = zip_ref.namelist()\n",
    "                    multiple_files = len(file_list) > 1\n",
    "            \n",
    "                    for index, file in enumerate(file_list):\n",
    "                        file_ext = os.path.splitext(file)[1]\n",
    "                        new_name = name_prefix\n",
    "                        if multiple_files:\n",
    "                            new_name += f\"_{index + 1}\"  \n",
    "                        new_name += file_ext  \n",
    "                        new_path = os.path.join(download_dir, new_name)\n",
    "\n",
    "                        with zip_ref.open(file) as src, open(new_path, \"wb\") as dst:\n",
    "                            dst.write(src.read())\n",
    "\n",
    "                print(f\"ZIP-архив {latest_file} успешно распакован и файлы переименованы в {name_prefix}.\")\n",
    "\n",
    "        except Exception as e:\n",
    "            print(f\"Ошибка при обработке {value}: {e}\")\n",
    "            time.sleep(1)  # Задержка перед повторной попыткой\n",
    "\n",
    "except Exception as e:\n",
    "    print(f\"Глобальная ошибка: {e}\")"
   ]
  },
  {
   "cell_type": "code",
   "execution_count": null,
   "id": "ccbab980-a8d7-4705-a83e-b548a26b0d1a",
   "metadata": {},
   "outputs": [],
   "source": [
    "import os\n",
    "import glob\n",
    "\n",
    "# Указываем путь к директории\n",
    "directory = r\"C:\\Users\\tatarikov\\Downloads\"\n",
    "\n",
    "# Находим все файлы с расширением .pdf\n",
    "pdf_files = glob.glob(os.path.join(directory, \"*.pdf\"))\n",
    "\n",
    "# Удаляем каждый найденный файл\n",
    "for pdf_file in pdf_files:\n",
    "    try:\n",
    "        os.remove(pdf_file)\n",
    "        print(f\"Удалён файл: {pdf_file}\")\n",
    "    except Exception as e:\n",
    "        print(f\"Ошибка при удалении файла {pdf_file}: {e}\")\n",
    "\n",
    "print(\"Все PDF-файлы удалены.\")\n",
    "\n",
    "\n",
    "zip_files = glob.glob(os.path.join(directory, \"*.zip\"))\n",
    "\n",
    "# Удаляем каждый найденный файл\n",
    "for zip_file in zip_files:\n",
    "    try:\n",
    "        os.remove(zip_file)\n",
    "        print(f\"Удалён файл: {zip_file}\")\n",
    "    except Exception as e:\n",
    "        print(f\"Ошибка при удалении файла {zip_file}: {e}\")\n",
    "\n",
    "print(\"Все zip-файлы удалены.\")"
   ]
  },
  {
   "cell_type": "code",
   "execution_count": null,
   "id": "f086c83f-7217-41c4-9b70-7e170376db56",
   "metadata": {},
   "outputs": [],
   "source": []
  }
 ],
 "metadata": {
  "kernelspec": {
   "display_name": "Python 3 (ipykernel)",
   "language": "python",
   "name": "python3"
  },
  "language_info": {
   "codemirror_mode": {
    "name": "ipython",
    "version": 3
   },
   "file_extension": ".py",
   "mimetype": "text/x-python",
   "name": "python",
   "nbconvert_exporter": "python",
   "pygments_lexer": "ipython3",
   "version": "3.12.4"
  }
 },
 "nbformat": 4,
 "nbformat_minor": 5
}
