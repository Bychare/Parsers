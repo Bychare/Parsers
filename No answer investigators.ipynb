{
 "cells": [
  {
   "cell_type": "code",
   "execution_count": 4,
   "id": "cca71bb7-3579-4597-91e7-629b429a0b32",
   "metadata": {},
   "outputs": [],
   "source": [
    "import pandas as pd\n",
    "import numpy as np\n",
    "import re"
   ]
  },
  {
   "cell_type": "code",
   "execution_count": 9,
   "id": "c2fb89ee-79ea-491f-bea5-09b9cf3f507d",
   "metadata": {},
   "outputs": [
    {
     "name": "stdout",
     "output_type": "stream",
     "text": [
      "Обработка завершена. Данные сохранены в 'C:\\Users\\tatarikov\\Desktop\\R scripts\\Daily report\\Processed_queries.xlsx' с двумя листами.\n"
     ]
    },
    {
     "name": "stderr",
     "output_type": "stream",
     "text": [
      "C:\\Users\\tatarikov\\AppData\\Local\\Temp\\ipykernel_10236\\2208950639.py:28: DeprecationWarning: DataFrameGroupBy.apply operated on the grouping columns. This behavior is deprecated, and in a future version of pandas the grouping columns will be excluded from the operation. Either pass `include_groups=False` to exclude the groupings or explicitly select the grouping columns after groupby to silence this warning.\n",
      "  grouped = df.groupby([\"Screening ID\", \"Query number\"]).apply(\n"
     ]
    }
   ],
   "source": [
    "# Определяем рабочую директорию\n",
    "work_dir = r\"C:\\Users\\tatarikov\\Desktop\\R scripts\\Daily report\"\n",
    "file_path = f\"{work_dir}\\\\New queries.xlsx\"\n",
    "out_path = f\"{work_dir}\\\\Processed_queries.xlsx\"\n",
    "\n",
    "# 1. Читаем Excel файл\n",
    "df = pd.read_excel(file_path)\n",
    "\n",
    "# 2. Фильтруем строки по пользователям\n",
    "valid_users = [\n",
    "    \"Klim Tatarikov (tatarikov)\"\n",
    "]\n",
    "df = df[df[\"User\"].isin(valid_users)]\n",
    "\n",
    "# 3. Исключаем строки, где \"Day/Time\" начинается с \"31.03.2025\"\n",
    "df = df[~df[\"Day/Time\"].astype(str).str.startswith(\"31.03.2025\")]\n",
    "\n",
    "# 4. Убираем окончание \"(Repeat key x)\" из поля \"CRF\"\n",
    "df[\"CRF\"] = df[\"CRF\"].astype(str).apply(lambda x: re.sub(r\"\\(Repeat key \\d+\\)\", \"\", x).strip())\n",
    "\n",
    "# 5. Группировка по \"Screening ID\" и \"Query number\", подсчет \"Description\" в \"Value type\"\n",
    "grouped = df.groupby([\"Screening ID\", \"Query number\"]).apply(\n",
    "    lambda g: pd.Series({\"Description_Count\": (g[\"Value type\"] == \"Description\").sum()})\n",
    ").reset_index()\n",
    "\n",
    "# 6. Фильтруем строки, где Description_Count = 1\n",
    "filtered = grouped[grouped[\"Description_Count\"] == 1]\n",
    "\n",
    "# 7. Группируем по первым трём символам \"Screening ID\" и считаем количество строк\n",
    "screening_grouped = filtered[\"Screening ID\"].astype(str).str[:3].value_counts().reset_index()\n",
    "screening_grouped.columns = [\"Screening Prefix\", \"Count\"]\n",
    "\n",
    "# 8. Сохраняем результат в один файл с двумя листами\n",
    "with pd.ExcelWriter(out_path, engine=\"xlsxwriter\") as writer:\n",
    "    filtered.to_excel(writer, sheet_name=\"Filtered Data\", index=False)\n",
    "    screening_grouped.to_excel(writer, sheet_name=\"Screening Grouped\", index=False)\n",
    "\n",
    "print(f\"Обработка завершена. Данные сохранены в '{out_path}' с двумя листами.\")\n"
   ]
  },
  {
   "cell_type": "code",
   "execution_count": null,
   "id": "9d8df2d4-a9d0-44b6-8182-05eee3dcdb06",
   "metadata": {},
   "outputs": [],
   "source": []
  }
 ],
 "metadata": {
  "kernelspec": {
   "display_name": "Python 3 (ipykernel)",
   "language": "python",
   "name": "python3"
  },
  "language_info": {
   "codemirror_mode": {
    "name": "ipython",
    "version": 3
   },
   "file_extension": ".py",
   "mimetype": "text/x-python",
   "name": "python",
   "nbconvert_exporter": "python",
   "pygments_lexer": "ipython3",
   "version": "3.12.4"
  }
 },
 "nbformat": 4,
 "nbformat_minor": 5
}
